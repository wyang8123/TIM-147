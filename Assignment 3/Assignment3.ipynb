{
 "cells": [
  {
   "cell_type": "markdown",
   "metadata": {},
   "source": [
    "# **Homework #1 TIM 147**"
   ]
  },
  {
   "cell_type": "markdown",
   "metadata": {},
   "source": [
    "## **Data Vizulation** "
   ]
  },
  {
   "cell_type": "markdown",
   "metadata": {},
   "source": [
    "#### **Install all import library prerequiste**"
   ]
  },
  {
   "cell_type": "code",
   "execution_count": 154,
   "metadata": {},
   "outputs": [
    {
     "name": "stdout",
     "output_type": "stream",
     "text": [
      "Requirement already satisfied: pandas in c:\\users\\garfi\\appdata\\local\\packages\\pythonsoftwarefoundation.python.3.10_qbz5n2kfra8p0\\localcache\\local-packages\\python310\\site-packages (2.0.1)\n",
      "Requirement already satisfied: python-dateutil>=2.8.2 in c:\\users\\garfi\\appdata\\local\\packages\\pythonsoftwarefoundation.python.3.10_qbz5n2kfra8p0\\localcache\\local-packages\\python310\\site-packages (from pandas) (2.8.2)\n",
      "Requirement already satisfied: pytz>=2020.1 in c:\\users\\garfi\\appdata\\local\\packages\\pythonsoftwarefoundation.python.3.10_qbz5n2kfra8p0\\localcache\\local-packages\\python310\\site-packages (from pandas) (2022.6)\n",
      "Requirement already satisfied: tzdata>=2022.1 in c:\\users\\garfi\\appdata\\local\\packages\\pythonsoftwarefoundation.python.3.10_qbz5n2kfra8p0\\localcache\\local-packages\\python310\\site-packages (from pandas) (2022.7)\n",
      "Requirement already satisfied: numpy>=1.21.0 in c:\\users\\garfi\\appdata\\local\\packages\\pythonsoftwarefoundation.python.3.10_qbz5n2kfra8p0\\localcache\\local-packages\\python310\\site-packages (from pandas) (1.23.5)\n",
      "Requirement already satisfied: six>=1.5 in c:\\users\\garfi\\appdata\\local\\packages\\pythonsoftwarefoundation.python.3.10_qbz5n2kfra8p0\\localcache\\local-packages\\python310\\site-packages (from python-dateutil>=2.8.2->pandas) (1.16.0)\n",
      "Note: you may need to restart the kernel to use updated packages.\n"
     ]
    },
    {
     "name": "stderr",
     "output_type": "stream",
     "text": [
      "\n",
      "[notice] A new release of pip is available: 23.2.1 -> 23.3.1\n",
      "[notice] To update, run: C:\\Users\\garfi\\AppData\\Local\\Microsoft\\WindowsApps\\PythonSoftwareFoundation.Python.3.10_qbz5n2kfra8p0\\python.exe -m pip install --upgrade pip\n"
     ]
    },
    {
     "name": "stdout",
     "output_type": "stream",
     "text": [
      "Requirement already satisfied: matplotlib in c:\\users\\garfi\\appdata\\local\\packages\\pythonsoftwarefoundation.python.3.10_qbz5n2kfra8p0\\localcache\\local-packages\\python310\\site-packages (3.6.2)\n",
      "Requirement already satisfied: contourpy>=1.0.1 in c:\\users\\garfi\\appdata\\local\\packages\\pythonsoftwarefoundation.python.3.10_qbz5n2kfra8p0\\localcache\\local-packages\\python310\\site-packages (from matplotlib) (1.0.6)\n",
      "Requirement already satisfied: cycler>=0.10 in c:\\users\\garfi\\appdata\\local\\packages\\pythonsoftwarefoundation.python.3.10_qbz5n2kfra8p0\\localcache\\local-packages\\python310\\site-packages (from matplotlib) (0.11.0)\n",
      "Requirement already satisfied: fonttools>=4.22.0 in c:\\users\\garfi\\appdata\\local\\packages\\pythonsoftwarefoundation.python.3.10_qbz5n2kfra8p0\\localcache\\local-packages\\python310\\site-packages (from matplotlib) (4.38.0)\n",
      "Requirement already satisfied: kiwisolver>=1.0.1 in c:\\users\\garfi\\appdata\\local\\packages\\pythonsoftwarefoundation.python.3.10_qbz5n2kfra8p0\\localcache\\local-packages\\python310\\site-packages (from matplotlib) (1.4.4)\n",
      "Requirement already satisfied: numpy>=1.19 in c:\\users\\garfi\\appdata\\local\\packages\\pythonsoftwarefoundation.python.3.10_qbz5n2kfra8p0\\localcache\\local-packages\\python310\\site-packages (from matplotlib) (1.23.5)\n",
      "Requirement already satisfied: packaging>=20.0 in c:\\users\\garfi\\appdata\\local\\packages\\pythonsoftwarefoundation.python.3.10_qbz5n2kfra8p0\\localcache\\local-packages\\python310\\site-packages (from matplotlib) (22.0)\n",
      "Requirement already satisfied: pillow>=6.2.0 in c:\\users\\garfi\\appdata\\local\\packages\\pythonsoftwarefoundation.python.3.10_qbz5n2kfra8p0\\localcache\\local-packages\\python310\\site-packages (from matplotlib) (9.3.0)\n",
      "Requirement already satisfied: pyparsing>=2.2.1 in c:\\users\\garfi\\appdata\\local\\packages\\pythonsoftwarefoundation.python.3.10_qbz5n2kfra8p0\\localcache\\local-packages\\python310\\site-packages (from matplotlib) (3.0.9)\n",
      "Requirement already satisfied: python-dateutil>=2.7 in c:\\users\\garfi\\appdata\\local\\packages\\pythonsoftwarefoundation.python.3.10_qbz5n2kfra8p0\\localcache\\local-packages\\python310\\site-packages (from matplotlib) (2.8.2)\n",
      "Requirement already satisfied: six>=1.5 in c:\\users\\garfi\\appdata\\local\\packages\\pythonsoftwarefoundation.python.3.10_qbz5n2kfra8p0\\localcache\\local-packages\\python310\\site-packages (from python-dateutil>=2.7->matplotlib) (1.16.0)\n",
      "Note: you may need to restart the kernel to use updated packages.\n"
     ]
    },
    {
     "name": "stderr",
     "output_type": "stream",
     "text": [
      "\n",
      "[notice] A new release of pip is available: 23.2.1 -> 23.3.1\n",
      "[notice] To update, run: C:\\Users\\garfi\\AppData\\Local\\Microsoft\\WindowsApps\\PythonSoftwareFoundation.Python.3.10_qbz5n2kfra8p0\\python.exe -m pip install --upgrade pip\n"
     ]
    },
    {
     "name": "stdout",
     "output_type": "stream",
     "text": [
      "Requirement already satisfied: scikit-learn in c:\\users\\garfi\\appdata\\local\\packages\\pythonsoftwarefoundation.python.3.10_qbz5n2kfra8p0\\localcache\\local-packages\\python310\\site-packages (1.2.0)Note: you may need to restart the kernel to use updated packages.\n",
      "\n",
      "Requirement already satisfied: numpy>=1.17.3 in c:\\users\\garfi\\appdata\\local\\packages\\pythonsoftwarefoundation.python.3.10_qbz5n2kfra8p0\\localcache\\local-packages\\python310\\site-packages (from scikit-learn) (1.23.5)\n",
      "Requirement already satisfied: scipy>=1.3.2 in c:\\users\\garfi\\appdata\\local\\packages\\pythonsoftwarefoundation.python.3.10_qbz5n2kfra8p0\\localcache\\local-packages\\python310\\site-packages (from scikit-learn) (1.9.3)\n",
      "Requirement already satisfied: joblib>=1.1.1 in c:\\users\\garfi\\appdata\\local\\packages\\pythonsoftwarefoundation.python.3.10_qbz5n2kfra8p0\\localcache\\local-packages\\python310\\site-packages (from scikit-learn) (1.2.0)\n",
      "Requirement already satisfied: threadpoolctl>=2.0.0 in c:\\users\\garfi\\appdata\\local\\packages\\pythonsoftwarefoundation.python.3.10_qbz5n2kfra8p0\\localcache\\local-packages\\python310\\site-packages (from scikit-learn) (3.1.0)\n"
     ]
    },
    {
     "name": "stderr",
     "output_type": "stream",
     "text": [
      "\n",
      "[notice] A new release of pip is available: 23.2.1 -> 23.3.1\n",
      "[notice] To update, run: C:\\Users\\garfi\\AppData\\Local\\Microsoft\\WindowsApps\\PythonSoftwareFoundation.Python.3.10_qbz5n2kfra8p0\\python.exe -m pip install --upgrade pip\n"
     ]
    }
   ],
   "source": [
    "%pip install pandas\n",
    "%pip install matplotlib\n",
    "%pip install scikit-learn"
   ]
  },
  {
   "cell_type": "markdown",
   "metadata": {},
   "source": [
    "#### **Read Input Excel Data**"
   ]
  },
  {
   "cell_type": "code",
   "execution_count": 155,
   "metadata": {},
   "outputs": [
    {
     "data": {
      "text/html": [
       "<div>\n",
       "<style scoped>\n",
       "    .dataframe tbody tr th:only-of-type {\n",
       "        vertical-align: middle;\n",
       "    }\n",
       "\n",
       "    .dataframe tbody tr th {\n",
       "        vertical-align: top;\n",
       "    }\n",
       "\n",
       "    .dataframe thead th {\n",
       "        text-align: right;\n",
       "    }\n",
       "</style>\n",
       "<table border=\"1\" class=\"dataframe\">\n",
       "  <thead>\n",
       "    <tr style=\"text-align: right;\">\n",
       "      <th></th>\n",
       "      <th>COLLEGE</th>\n",
       "      <th>INCOME</th>\n",
       "      <th>OVERAGE</th>\n",
       "      <th>LEFTOVER</th>\n",
       "      <th>HOUSE</th>\n",
       "      <th>HANDSET_PRICE</th>\n",
       "      <th>OVER_15MINS_CALLS_PER_MONTH</th>\n",
       "      <th>AVERAGE_CALL_DURATION</th>\n",
       "      <th>REPORTED_SATISFACTION</th>\n",
       "      <th>REPORTED_USAGE_LEVEL</th>\n",
       "      <th>CONSIDERING_CHANGE_OF_PLAN</th>\n",
       "      <th>LEAVE</th>\n",
       "    </tr>\n",
       "  </thead>\n",
       "  <tbody>\n",
       "    <tr>\n",
       "      <th>0</th>\n",
       "      <td>zero</td>\n",
       "      <td>31953</td>\n",
       "      <td>0</td>\n",
       "      <td>6</td>\n",
       "      <td>313378</td>\n",
       "      <td>161</td>\n",
       "      <td>0</td>\n",
       "      <td>4</td>\n",
       "      <td>unsat</td>\n",
       "      <td>little</td>\n",
       "      <td>no</td>\n",
       "      <td>STAY</td>\n",
       "    </tr>\n",
       "    <tr>\n",
       "      <th>1</th>\n",
       "      <td>one</td>\n",
       "      <td>36147</td>\n",
       "      <td>0</td>\n",
       "      <td>13</td>\n",
       "      <td>800586</td>\n",
       "      <td>244</td>\n",
       "      <td>0</td>\n",
       "      <td>6</td>\n",
       "      <td>unsat</td>\n",
       "      <td>little</td>\n",
       "      <td>considering</td>\n",
       "      <td>STAY</td>\n",
       "    </tr>\n",
       "    <tr>\n",
       "      <th>2</th>\n",
       "      <td>one</td>\n",
       "      <td>27273</td>\n",
       "      <td>230</td>\n",
       "      <td>0</td>\n",
       "      <td>305049</td>\n",
       "      <td>201</td>\n",
       "      <td>16</td>\n",
       "      <td>15</td>\n",
       "      <td>unsat</td>\n",
       "      <td>very_little</td>\n",
       "      <td>perhaps</td>\n",
       "      <td>STAY</td>\n",
       "    </tr>\n",
       "    <tr>\n",
       "      <th>3</th>\n",
       "      <td>zero</td>\n",
       "      <td>120070</td>\n",
       "      <td>38</td>\n",
       "      <td>33</td>\n",
       "      <td>788235</td>\n",
       "      <td>780</td>\n",
       "      <td>3</td>\n",
       "      <td>2</td>\n",
       "      <td>unsat</td>\n",
       "      <td>very_high</td>\n",
       "      <td>considering</td>\n",
       "      <td>LEAVE</td>\n",
       "    </tr>\n",
       "    <tr>\n",
       "      <th>4</th>\n",
       "      <td>one</td>\n",
       "      <td>29215</td>\n",
       "      <td>208</td>\n",
       "      <td>85</td>\n",
       "      <td>224784</td>\n",
       "      <td>241</td>\n",
       "      <td>21</td>\n",
       "      <td>1</td>\n",
       "      <td>very_unsat</td>\n",
       "      <td>little</td>\n",
       "      <td>never_thought</td>\n",
       "      <td>STAY</td>\n",
       "    </tr>\n",
       "  </tbody>\n",
       "</table>\n",
       "</div>"
      ],
      "text/plain": [
       "  COLLEGE  INCOME  OVERAGE  LEFTOVER   HOUSE  HANDSET_PRICE   \n",
       "0    zero   31953        0         6  313378            161  \\\n",
       "1     one   36147        0        13  800586            244   \n",
       "2     one   27273      230         0  305049            201   \n",
       "3    zero  120070       38        33  788235            780   \n",
       "4     one   29215      208        85  224784            241   \n",
       "\n",
       "   OVER_15MINS_CALLS_PER_MONTH  AVERAGE_CALL_DURATION REPORTED_SATISFACTION   \n",
       "0                            0                      4                 unsat  \\\n",
       "1                            0                      6                 unsat   \n",
       "2                           16                     15                 unsat   \n",
       "3                            3                      2                 unsat   \n",
       "4                           21                      1            very_unsat   \n",
       "\n",
       "  REPORTED_USAGE_LEVEL CONSIDERING_CHANGE_OF_PLAN  LEAVE  \n",
       "0               little                         no   STAY  \n",
       "1               little                considering   STAY  \n",
       "2          very_little                    perhaps   STAY  \n",
       "3            very_high                considering  LEAVE  \n",
       "4               little              never_thought   STAY  "
      ]
     },
     "execution_count": 155,
     "metadata": {},
     "output_type": "execute_result"
    }
   ],
   "source": [
    "import pandas\n",
    "dataframe = pandas.read_excel(\"Customer_Churn.xlsx\")\n",
    "dataframe.head()"
   ]
  },
  {
   "cell_type": "markdown",
   "metadata": {},
   "source": [
    "- The data seems to be answers collected by a survey completed by a cell phone company to understand customer statisfication and determine whether their could be a possible correlation to why people are leaving the plan. "
   ]
  },
  {
   "cell_type": "markdown",
   "metadata": {},
   "source": [
    "#### **Understand data**"
   ]
  },
  {
   "cell_type": "code",
   "execution_count": 156,
   "metadata": {},
   "outputs": [
    {
     "data": {
      "text/html": [
       "<div>\n",
       "<style scoped>\n",
       "    .dataframe tbody tr th:only-of-type {\n",
       "        vertical-align: middle;\n",
       "    }\n",
       "\n",
       "    .dataframe tbody tr th {\n",
       "        vertical-align: top;\n",
       "    }\n",
       "\n",
       "    .dataframe thead th {\n",
       "        text-align: right;\n",
       "    }\n",
       "</style>\n",
       "<table border=\"1\" class=\"dataframe\">\n",
       "  <thead>\n",
       "    <tr style=\"text-align: right;\">\n",
       "      <th></th>\n",
       "      <th>INCOME</th>\n",
       "      <th>OVERAGE</th>\n",
       "      <th>LEFTOVER</th>\n",
       "      <th>HOUSE</th>\n",
       "      <th>HANDSET_PRICE</th>\n",
       "      <th>OVER_15MINS_CALLS_PER_MONTH</th>\n",
       "      <th>AVERAGE_CALL_DURATION</th>\n",
       "    </tr>\n",
       "  </thead>\n",
       "  <tbody>\n",
       "    <tr>\n",
       "      <th>count</th>\n",
       "      <td>20000.000000</td>\n",
       "      <td>20000.000000</td>\n",
       "      <td>20000.000000</td>\n",
       "      <td>20000.000000</td>\n",
       "      <td>20000.000000</td>\n",
       "      <td>20000.000000</td>\n",
       "      <td>20000.000000</td>\n",
       "    </tr>\n",
       "    <tr>\n",
       "      <th>mean</th>\n",
       "      <td>80281.447750</td>\n",
       "      <td>85.979550</td>\n",
       "      <td>23.898650</td>\n",
       "      <td>493155.264250</td>\n",
       "      <td>389.615100</td>\n",
       "      <td>8.000700</td>\n",
       "      <td>6.002250</td>\n",
       "    </tr>\n",
       "    <tr>\n",
       "      <th>std</th>\n",
       "      <td>41680.586319</td>\n",
       "      <td>85.992324</td>\n",
       "      <td>26.816645</td>\n",
       "      <td>252407.884692</td>\n",
       "      <td>213.820682</td>\n",
       "      <td>8.925418</td>\n",
       "      <td>4.402558</td>\n",
       "    </tr>\n",
       "    <tr>\n",
       "      <th>min</th>\n",
       "      <td>20007.000000</td>\n",
       "      <td>-2.000000</td>\n",
       "      <td>0.000000</td>\n",
       "      <td>150002.000000</td>\n",
       "      <td>130.000000</td>\n",
       "      <td>0.000000</td>\n",
       "      <td>1.000000</td>\n",
       "    </tr>\n",
       "    <tr>\n",
       "      <th>25%</th>\n",
       "      <td>42217.000000</td>\n",
       "      <td>0.000000</td>\n",
       "      <td>0.000000</td>\n",
       "      <td>263714.250000</td>\n",
       "      <td>219.000000</td>\n",
       "      <td>1.000000</td>\n",
       "      <td>2.000000</td>\n",
       "    </tr>\n",
       "    <tr>\n",
       "      <th>50%</th>\n",
       "      <td>75366.500000</td>\n",
       "      <td>59.000000</td>\n",
       "      <td>14.000000</td>\n",
       "      <td>452259.500000</td>\n",
       "      <td>326.000000</td>\n",
       "      <td>4.000000</td>\n",
       "      <td>5.000000</td>\n",
       "    </tr>\n",
       "    <tr>\n",
       "      <th>75%</th>\n",
       "      <td>115881.750000</td>\n",
       "      <td>179.000000</td>\n",
       "      <td>41.000000</td>\n",
       "      <td>702378.000000</td>\n",
       "      <td>533.250000</td>\n",
       "      <td>15.000000</td>\n",
       "      <td>10.000000</td>\n",
       "    </tr>\n",
       "    <tr>\n",
       "      <th>max</th>\n",
       "      <td>159983.000000</td>\n",
       "      <td>335.000000</td>\n",
       "      <td>89.000000</td>\n",
       "      <td>999996.000000</td>\n",
       "      <td>899.000000</td>\n",
       "      <td>29.000000</td>\n",
       "      <td>15.000000</td>\n",
       "    </tr>\n",
       "  </tbody>\n",
       "</table>\n",
       "</div>"
      ],
      "text/plain": [
       "              INCOME       OVERAGE      LEFTOVER          HOUSE   \n",
       "count   20000.000000  20000.000000  20000.000000   20000.000000  \\\n",
       "mean    80281.447750     85.979550     23.898650  493155.264250   \n",
       "std     41680.586319     85.992324     26.816645  252407.884692   \n",
       "min     20007.000000     -2.000000      0.000000  150002.000000   \n",
       "25%     42217.000000      0.000000      0.000000  263714.250000   \n",
       "50%     75366.500000     59.000000     14.000000  452259.500000   \n",
       "75%    115881.750000    179.000000     41.000000  702378.000000   \n",
       "max    159983.000000    335.000000     89.000000  999996.000000   \n",
       "\n",
       "       HANDSET_PRICE  OVER_15MINS_CALLS_PER_MONTH  AVERAGE_CALL_DURATION  \n",
       "count   20000.000000                 20000.000000           20000.000000  \n",
       "mean      389.615100                     8.000700               6.002250  \n",
       "std       213.820682                     8.925418               4.402558  \n",
       "min       130.000000                     0.000000               1.000000  \n",
       "25%       219.000000                     1.000000               2.000000  \n",
       "50%       326.000000                     4.000000               5.000000  \n",
       "75%       533.250000                    15.000000              10.000000  \n",
       "max       899.000000                    29.000000              15.000000  "
      ]
     },
     "execution_count": 156,
     "metadata": {},
     "output_type": "execute_result"
    }
   ],
   "source": [
    "dataframe.describe()"
   ]
  },
  {
   "cell_type": "code",
   "execution_count": 157,
   "metadata": {},
   "outputs": [
    {
     "name": "stdout",
     "output_type": "stream",
     "text": [
      "<class 'pandas.core.frame.DataFrame'>\n",
      "RangeIndex: 20000 entries, 0 to 19999\n",
      "Data columns (total 12 columns):\n",
      " #   Column                       Non-Null Count  Dtype \n",
      "---  ------                       --------------  ----- \n",
      " 0   COLLEGE                      20000 non-null  object\n",
      " 1   INCOME                       20000 non-null  int64 \n",
      " 2   OVERAGE                      20000 non-null  int64 \n",
      " 3   LEFTOVER                     20000 non-null  int64 \n",
      " 4   HOUSE                        20000 non-null  int64 \n",
      " 5   HANDSET_PRICE                20000 non-null  int64 \n",
      " 6   OVER_15MINS_CALLS_PER_MONTH  20000 non-null  int64 \n",
      " 7   AVERAGE_CALL_DURATION        20000 non-null  int64 \n",
      " 8   REPORTED_SATISFACTION        20000 non-null  object\n",
      " 9   REPORTED_USAGE_LEVEL         20000 non-null  object\n",
      " 10  CONSIDERING_CHANGE_OF_PLAN   20000 non-null  object\n",
      " 11  LEAVE                        20000 non-null  object\n",
      "dtypes: int64(7), object(5)\n",
      "memory usage: 1.8+ MB\n"
     ]
    }
   ],
   "source": [
    "dataframe.info()"
   ]
  },
  {
   "cell_type": "code",
   "execution_count": 158,
   "metadata": {},
   "outputs": [],
   "source": [
    "CustomerChanging = dataframe.loc[dataframe[\"LEAVE\"].isin([\"LEAVE\"])]\n",
    "CustomerNotChanging = dataframe.loc[dataframe[\"LEAVE\"].isin([\"STAY\"])]"
   ]
  },
  {
   "cell_type": "markdown",
   "metadata": {},
   "source": [
    "- The income + household price and overage - leftover could be great indictors whether the customer would leave or not. \n",
    "- I split the dataset into customers who left the plan and customers that are currently staying with the plan and haven't left. \n",
    "    - As this split would ensure the comparison of the great indicators would show directly a possible pattern if any why some customers have left or stayed using the cellphone plan. "
   ]
  },
  {
   "cell_type": "code",
   "execution_count": 159,
   "metadata": {},
   "outputs": [
    {
     "name": "stdout",
     "output_type": "stream",
     "text": [
      "\n",
      "Customer willing to change houshold + income info\n",
      "<class 'pandas.core.series.Series'>\n",
      "Index: 9852 entries, 3 to 19999\n",
      "Series name: None\n",
      "Non-Null Count  Dtype\n",
      "--------------  -----\n",
      "9852 non-null   int64\n",
      "dtypes: int64(1)\n",
      "memory usage: 153.9 KB\n",
      "3     908305\n",
      "9     259384\n",
      "18    653348\n",
      "20    411634\n",
      "22    317843\n",
      "dtype: int64\n",
      "\n",
      "Customer's unwilling to change household + income info\n",
      "<class 'pandas.core.series.Series'>\n",
      "Index: 10148 entries, 0 to 19996\n",
      "Series name: None\n",
      "Non-Null Count  Dtype\n",
      "--------------  -----\n",
      "10148 non-null  int64\n",
      "dtypes: int64(1)\n",
      "memory usage: 158.6 KB\n",
      "0    345331\n",
      "1    836733\n",
      "2    332322\n",
      "4    253999\n",
      "5    766697\n",
      "dtype: int64\n",
      "\n",
      "Customer's willing to change overage - leftover info\n",
      "<class 'pandas.core.series.Series'>\n",
      "Index: 9852 entries, 3 to 19999\n",
      "Series name: None\n",
      "Non-Null Count  Dtype\n",
      "--------------  -----\n",
      "9852 non-null   int64\n",
      "dtypes: int64(1)\n",
      "memory usage: 153.9 KB\n",
      "3       5\n",
      "9     156\n",
      "18      5\n",
      "20      0\n",
      "22    237\n",
      "dtype: int64\n",
      "\n",
      "Customer's unwilling to change overage - leftover info\n",
      "<class 'pandas.core.series.Series'>\n",
      "Index: 10148 entries, 0 to 19996\n",
      "Series name: None\n",
      "Non-Null Count  Dtype\n",
      "--------------  -----\n",
      "10148 non-null  int64\n",
      "dtypes: int64(1)\n",
      "memory usage: 158.6 KB\n",
      "0     -6\n",
      "1    -13\n",
      "2    230\n",
      "4    123\n",
      "5     16\n",
      "dtype: int64\n"
     ]
    }
   ],
   "source": [
    "householdpricedataframeCustomerChanging = CustomerChanging[\"INCOME\"] + CustomerChanging[\"HOUSE\"]\n",
    "print(\"\\nCustomer willing to change houshold + income info\")\n",
    "householdpricedataframeCustomerChanging.info()\n",
    "print(householdpricedataframeCustomerChanging.head())\n",
    "householdpricedataframeCustomerNotChanging = CustomerNotChanging[\"INCOME\"] + CustomerNotChanging[\"HOUSE\"]\n",
    "print(\"\\nCustomer's unwilling to change household + income info\")\n",
    "householdpricedataframeCustomerNotChanging.info()\n",
    "print(householdpricedataframeCustomerNotChanging.head())\n",
    "overageCustomerChanging = CustomerChanging[\"OVERAGE\"] - CustomerChanging[\"LEFTOVER\"]\n",
    "print(\"\\nCustomer's willing to change overage - leftover info\")\n",
    "overageCustomerChanging.info()\n",
    "print(overageCustomerChanging.head())\n",
    "overageCustomerNotChanging = CustomerNotChanging[\"OVERAGE\"] - CustomerNotChanging[\"LEFTOVER\"]\n",
    "print(\"\\nCustomer's unwilling to change overage - leftover info\")\n",
    "overageCustomerNotChanging.info()\n",
    "print(overageCustomerNotChanging.head())"
   ]
  },
  {
   "cell_type": "markdown",
   "metadata": {},
   "source": [
    "- Splitting the data into customer's that will leave and customer's that won't leave ensure that the income and values are compared against similiar customer's, which ensures the data won't be skewed. "
   ]
  },
  {
   "cell_type": "markdown",
   "metadata": {},
   "source": [
    "#### **Data Visualization**"
   ]
  },
  {
   "cell_type": "code",
   "execution_count": 160,
   "metadata": {},
   "outputs": [
    {
     "data": {
      "image/png": "[encoded data removed]",
      "text/plain": [
       "<Figure size 640x480 with 1 Axes>"
      ]
     },
     "metadata": {},
     "output_type": "display_data"
    }
   ],
   "source": [
    "import matplotlib.pyplot as plt\n",
    "fig, ax = plt.subplots()\n",
    "## ---- Used .sample from chatgpt to ensure a random sample is used as the datasets are not consistent in sample size ----\n",
    "ax.hist(householdpricedataframeCustomerChanging.tolist(), color=\"blue\", alpha=0.5, label=\"Not Committed\")\n",
    "ax.hist(householdpricedataframeCustomerNotChanging.sample(householdpricedataframeCustomerChanging.count()), color=\"orange\", alpha=0.5, label=\"Committed\")\n",
    "ax.set_xlabel('House + Income')\n",
    "ax.set_ylabel('Number of Data')\n",
    "ax.set_title(\"house + Income between committed vs Non-Committed\")\n",
    "ax.legend()\n",
    "plt.show()"
   ]
  },
  {
   "cell_type": "markdown",
   "metadata": {},
   "source": [
    "- This histogram shows the house price and income between people that are committed and not committed. This is useful as it shows the house and income does have a possible affect on customers being committed or not comitted. \n",
    "- As it seems lower house price and income leads to more people that not comitted to the plan. "
   ]
  },
  {
   "cell_type": "code",
   "execution_count": 161,
   "metadata": {},
   "outputs": [
    {
     "data": {
      "image/png": "[encoded data removed]",
      "text/plain": [
       "<Figure size 640x480 with 1 Axes>"
      ]
     },
     "metadata": {},
     "output_type": "display_data"
    }
   ],
   "source": [
    "import matplotlib.pyplot as plt\n",
    "fig, ax = plt.subplots()\n",
    "## ---- Used .sample from chatgpt to ensure a random sample is used as the datasets are not consistent in sample size ----\n",
    "ax.hist(overageCustomerChanging.tolist(), color=\"blue\", alpha=0.5, label=\"Not Committed\")\n",
    "ax.hist(overageCustomerNotChanging.sample(overageCustomerChanging.count()), color=\"orange\", alpha=0.5, label=\"Committed\")\n",
    "ax.set_xlabel('Overage - leftover')\n",
    "ax.set_ylabel('Number of Data')\n",
    "ax.set_title(\"\")\n",
    "ax.legend()\n",
    "plt.show()"
   ]
  },
  {
   "cell_type": "markdown",
   "metadata": {},
   "source": [
    "- The histogram shows that overage and leftover between comitted and un comitted are possible correlation. \n",
    "- Customers with more overage are more likely to leave then customers with little to no overage and instead more time leftover. "
   ]
  },
  {
   "cell_type": "markdown",
   "metadata": {},
   "source": [
    "The conclusion is that overage, leftover, house, and income are all possible reasons a customer may be comitted or uncomitted to the phone plan. "
   ]
  },
  {
   "cell_type": "markdown",
   "metadata": {},
   "source": [
    "## **Prediction Model**"
   ]
  },
  {
   "cell_type": "markdown",
   "metadata": {},
   "source": [
    "### **KNN Model**"
   ]
  },
  {
   "cell_type": "markdown",
   "metadata": {},
   "source": [
    "#### **Prepare Dataset for KNN Model**"
   ]
  },
  {
   "cell_type": "code",
   "execution_count": 162,
   "metadata": {},
   "outputs": [],
   "source": [
    "from sklearn.model_selection import train_test_split\n",
    "#---- Creates a copy of the original dataframe ----\n",
    "knn_dataframe = dataframe.copy()\n",
    "collegelist = []\n",
    "#---- Creates a list of column adjusting the text values to numberical values ----\n",
    "for x in dataframe[\"COLLEGE\"]:\n",
    "    if x == \"zero\":\n",
    "        collegelist.append(0)\n",
    "    elif x == \"one\":\n",
    "        collegelist.append(1)\n",
    "    else:\n",
    "        continue\n",
    "knn_dataframe['COLLEGE'] = collegelist\n",
    "#---- Uses all the columns as features except for the labeled column and similiar columns ----\n",
    "knn_x = knn_dataframe.drop([\"LEAVE\", \"REPORTED_SATISFACTION\", \"REPORTED_USAGE_LEVEL\", \"CONSIDERING_CHANGE_OF_PLAN\"], axis=1)\n",
    "#---- Labeled column in the dataframe ----\n",
    "knn_y = knn_dataframe[\"LEAVE\"]\n",
    "#---- Split the data into testing where 20% is for testing and 80% is for training ----\n",
    "knn_X_train, knn_X_test, knn_y_train, knn_y_test = train_test_split(knn_x, knn_y, test_size=0.2)"
   ]
  },
  {
   "cell_type": "markdown",
   "metadata": {},
   "source": [
    "#### **Run KNN Model on Training Dataset**"
   ]
  },
  {
   "cell_type": "code",
   "execution_count": 163,
   "metadata": {},
   "outputs": [
    {
     "data": {
      "text/html": [
       "<style>#sk-container-id-11 {color: black;background-color: white;}#sk-container-id-11 pre{padding: 0;}#sk-container-id-11 div.sk-toggleable {background-color: white;}#sk-container-id-11 label.sk-toggleable__label {cursor: pointer;display: block;width: 100%;margin-bottom: 0;padding: 0.3em;box-sizing: border-box;text-align: center;}#sk-container-id-11 label.sk-toggleable__label-arrow:before {content: \"▸\";float: left;margin-right: 0.25em;color: #696969;}#sk-container-id-11 label.sk-toggleable__label-arrow:hover:before {color: black;}#sk-container-id-11 div.sk-estimator:hover label.sk-toggleable__label-arrow:before {color: black;}#sk-container-id-11 div.sk-toggleable__content {max-height: 0;max-width: 0;overflow: hidden;text-align: left;background-color: #f0f8ff;}#sk-container-id-11 div.sk-toggleable__content pre {margin: 0.2em;color: black;border-radius: 0.25em;background-color: #f0f8ff;}#sk-container-id-11 input.sk-toggleable__control:checked~div.sk-toggleable__content {max-height: 200px;max-width: 100%;overflow: auto;}#sk-container-id-11 input.sk-toggleable__control:checked~label.sk-toggleable__label-arrow:before {content: \"▾\";}#sk-container-id-11 div.sk-estimator input.sk-toggleable__control:checked~label.sk-toggleable__label {background-color: #d4ebff;}#sk-container-id-11 div.sk-label input.sk-toggleable__control:checked~label.sk-toggleable__label {background-color: #d4ebff;}#sk-container-id-11 input.sk-hidden--visually {border: 0;clip: rect(1px 1px 1px 1px);clip: rect(1px, 1px, 1px, 1px);height: 1px;margin: -1px;overflow: hidden;padding: 0;position: absolute;width: 1px;}#sk-container-id-11 div.sk-estimator {font-family: monospace;background-color: #f0f8ff;border: 1px dotted black;border-radius: 0.25em;box-sizing: border-box;margin-bottom: 0.5em;}#sk-container-id-11 div.sk-estimator:hover {background-color: #d4ebff;}#sk-container-id-11 div.sk-parallel-item::after {content: \"\";width: 100%;border-bottom: 1px solid gray;flex-grow: 1;}#sk-container-id-11 div.sk-label:hover label.sk-toggleable__label {background-color: #d4ebff;}#sk-container-id-11 div.sk-serial::before {content: \"\";position: absolute;border-left: 1px solid gray;box-sizing: border-box;top: 0;bottom: 0;left: 50%;z-index: 0;}#sk-container-id-11 div.sk-serial {display: flex;flex-direction: column;align-items: center;background-color: white;padding-right: 0.2em;padding-left: 0.2em;position: relative;}#sk-container-id-11 div.sk-item {position: relative;z-index: 1;}#sk-container-id-11 div.sk-parallel {display: flex;align-items: stretch;justify-content: center;background-color: white;position: relative;}#sk-container-id-11 div.sk-item::before, #sk-container-id-11 div.sk-parallel-item::before {content: \"\";position: absolute;border-left: 1px solid gray;box-sizing: border-box;top: 0;bottom: 0;left: 50%;z-index: -1;}#sk-container-id-11 div.sk-parallel-item {display: flex;flex-direction: column;z-index: 1;position: relative;background-color: white;}#sk-container-id-11 div.sk-parallel-item:first-child::after {align-self: flex-end;width: 50%;}#sk-container-id-11 div.sk-parallel-item:last-child::after {align-self: flex-start;width: 50%;}#sk-container-id-11 div.sk-parallel-item:only-child::after {width: 0;}#sk-container-id-11 div.sk-dashed-wrapped {border: 1px dashed gray;margin: 0 0.4em 0.5em 0.4em;box-sizing: border-box;padding-bottom: 0.4em;background-color: white;}#sk-container-id-11 div.sk-label label {font-family: monospace;font-weight: bold;display: inline-block;line-height: 1.2em;}#sk-container-id-11 div.sk-label-container {text-align: center;}#sk-container-id-11 div.sk-container {/* jupyter's `normalize.less` sets `[hidden] { display: none; }` but bootstrap.min.css set `[hidden] { display: none !important; }` so we also need the `!important` here to be able to override the default hidden behavior on the sphinx rendered scikit-learn.org. See: https://github.com/scikit-learn/scikit-learn/issues/21755 */display: inline-block !important;position: relative;}#sk-container-id-11 div.sk-text-repr-fallback {display: none;}</style><div id=\"sk-container-id-11\" class=\"sk-top-container\"><div class=\"sk-text-repr-fallback\"><pre>KNeighborsClassifier(n_neighbors=6)</pre><b>In a Jupyter environment, please rerun this cell to show the HTML representation or trust the notebook. <br />On GitHub, the HTML representation is unable to render, please try loading this page with nbviewer.org.</b></div><div class=\"sk-container\" hidden><div class=\"sk-item\"><div class=\"sk-estimator sk-toggleable\"><input class=\"sk-toggleable__control sk-hidden--visually\" id=\"sk-estimator-id-11\" type=\"checkbox\" checked><label for=\"sk-estimator-id-11\" class=\"sk-toggleable__label sk-toggleable__label-arrow\">KNeighborsClassifier</label><div class=\"sk-toggleable__content\"><pre>KNeighborsClassifier(n_neighbors=6)</pre></div></div></div></div></div>"
      ],
      "text/plain": [
       "KNeighborsClassifier(n_neighbors=6)"
      ]
     },
     "execution_count": 163,
     "metadata": {},
     "output_type": "execute_result"
    }
   ],
   "source": [
    "from sklearn.neighbors import KNeighborsClassifier\n",
    "# Create a KNN classifier\n",
    "knn = KNeighborsClassifier(n_neighbors=6)  # You can adjust the number of neighbors (k) as needed\n",
    "\n",
    "# Train the model\n",
    "knn.fit(knn_X_train, knn_y_train)"
   ]
  },
  {
   "cell_type": "markdown",
   "metadata": {},
   "source": [
    "#### **Analyze KNN Model on Testing Dataset**"
   ]
  },
  {
   "cell_type": "code",
   "execution_count": 164,
   "metadata": {},
   "outputs": [
    {
     "name": "stdout",
     "output_type": "stream",
     "text": [
      "Accuracy Scores for Each Fold:\n",
      "Fold 1 : 0.61\n",
      "Fold 2 : 0.5925\n",
      "Fold 3 : 0.605\n",
      "Fold 4 : 0.565\n",
      "Fold 5 : 0.55\n",
      "Fold 6 : 0.64\n",
      "Fold 7 : 0.5925\n",
      "Fold 8 : 0.6125\n",
      "Fold 9 : 0.595\n",
      "Fold 10 : 0.59\n",
      "Mean Accuracy:  0.59525\n"
     ]
    }
   ],
   "source": [
    "from sklearn.model_selection import cross_val_score\n",
    "from sklearn.metrics import accuracy_score\n",
    "import numpy as np\n",
    "\n",
    "#---- Completes 10 tests of random samples and grabs the accuracy score ----\n",
    "knn_accuracy_scores = cross_val_score(knn, knn_X_test, knn_y_test, cv=10, scoring='accuracy')\n",
    "\n",
    "# --- Iterates through all the accuracy scores created by cross_val_score and prints the result ----\n",
    "print(\"Accuracy Scores for Each Fold:\")\n",
    "for i, score in enumerate(knn_accuracy_scores):\n",
    "    print(\"Fold \" + str(i+1), \": \" + str(score))\n",
    "\n",
    "knn_mean_accuracy = np.mean(knn_accuracy_scores)\n",
    "print(\"Mean Accuracy: \", knn_mean_accuracy)\n"
   ]
  },
  {
   "cell_type": "markdown",
   "metadata": {},
   "source": [
    "- The accuracy for KNN is around 0.57925 using 6 neighbors. "
   ]
  },
  {
   "cell_type": "markdown",
   "metadata": {},
   "source": [
    "### **Decision Tree Model**"
   ]
  },
  {
   "cell_type": "markdown",
   "metadata": {},
   "source": [
    "#### **Prepare Dataset for Decision Tree Model**"
   ]
  },
  {
   "cell_type": "code",
   "execution_count": 165,
   "metadata": {},
   "outputs": [],
   "source": [
    "from sklearn.model_selection import train_test_split\n",
    "#---- Creates a copy of the original dataframe ----\n",
    "decision_tree_dataframe = dataframe.copy()\n",
    "#---- Creates a list of column adjusting the text values to numberical values ----\n",
    "collegelist = []\n",
    "for x in dataframe[\"COLLEGE\"]:\n",
    "    if x == \"zero\":\n",
    "        collegelist.append(0)\n",
    "    elif x == \"one\":\n",
    "        collegelist.append(1)\n",
    "    else:\n",
    "        continue\n",
    "decision_tree_dataframe['COLLEGE'] = collegelist\n",
    "#---- Uses all the columns as features except for the columns that are similiar ----\n",
    "decision_tree_x = decision_tree_dataframe.drop([\"LEAVE\", \"REPORTED_SATISFACTION\", \"REPORTED_USAGE_LEVEL\", \"CONSIDERING_CHANGE_OF_PLAN\"], axis=1)\n",
    "#---- Labeled column in the dataframe ----\n",
    "decision_tree_y = decision_tree_dataframe[\"LEAVE\"]\n",
    "#---- Split the data into testing where 20% is for testing and 80% is for training ----\n",
    "decision_tree_X_train, decision_tree_X_test, decision_tree_y_train, decision_tree_y_test = train_test_split(decision_tree_x, decision_tree_y, test_size=0.2)"
   ]
  },
  {
   "cell_type": "markdown",
   "metadata": {},
   "source": [
    "#### **Run Decision Tree Model on Training Dataset**"
   ]
  },
  {
   "cell_type": "code",
   "execution_count": 166,
   "metadata": {},
   "outputs": [
    {
     "data": {
      "text/html": [
       "<style>#sk-container-id-12 {color: black;background-color: white;}#sk-container-id-12 pre{padding: 0;}#sk-container-id-12 div.sk-toggleable {background-color: white;}#sk-container-id-12 label.sk-toggleable__label {cursor: pointer;display: block;width: 100%;margin-bottom: 0;padding: 0.3em;box-sizing: border-box;text-align: center;}#sk-container-id-12 label.sk-toggleable__label-arrow:before {content: \"▸\";float: left;margin-right: 0.25em;color: #696969;}#sk-container-id-12 label.sk-toggleable__label-arrow:hover:before {color: black;}#sk-container-id-12 div.sk-estimator:hover label.sk-toggleable__label-arrow:before {color: black;}#sk-container-id-12 div.sk-toggleable__content {max-height: 0;max-width: 0;overflow: hidden;text-align: left;background-color: #f0f8ff;}#sk-container-id-12 div.sk-toggleable__content pre {margin: 0.2em;color: black;border-radius: 0.25em;background-color: #f0f8ff;}#sk-container-id-12 input.sk-toggleable__control:checked~div.sk-toggleable__content {max-height: 200px;max-width: 100%;overflow: auto;}#sk-container-id-12 input.sk-toggleable__control:checked~label.sk-toggleable__label-arrow:before {content: \"▾\";}#sk-container-id-12 div.sk-estimator input.sk-toggleable__control:checked~label.sk-toggleable__label {background-color: #d4ebff;}#sk-container-id-12 div.sk-label input.sk-toggleable__control:checked~label.sk-toggleable__label {background-color: #d4ebff;}#sk-container-id-12 input.sk-hidden--visually {border: 0;clip: rect(1px 1px 1px 1px);clip: rect(1px, 1px, 1px, 1px);height: 1px;margin: -1px;overflow: hidden;padding: 0;position: absolute;width: 1px;}#sk-container-id-12 div.sk-estimator {font-family: monospace;background-color: #f0f8ff;border: 1px dotted black;border-radius: 0.25em;box-sizing: border-box;margin-bottom: 0.5em;}#sk-container-id-12 div.sk-estimator:hover {background-color: #d4ebff;}#sk-container-id-12 div.sk-parallel-item::after {content: \"\";width: 100%;border-bottom: 1px solid gray;flex-grow: 1;}#sk-container-id-12 div.sk-label:hover label.sk-toggleable__label {background-color: #d4ebff;}#sk-container-id-12 div.sk-serial::before {content: \"\";position: absolute;border-left: 1px solid gray;box-sizing: border-box;top: 0;bottom: 0;left: 50%;z-index: 0;}#sk-container-id-12 div.sk-serial {display: flex;flex-direction: column;align-items: center;background-color: white;padding-right: 0.2em;padding-left: 0.2em;position: relative;}#sk-container-id-12 div.sk-item {position: relative;z-index: 1;}#sk-container-id-12 div.sk-parallel {display: flex;align-items: stretch;justify-content: center;background-color: white;position: relative;}#sk-container-id-12 div.sk-item::before, #sk-container-id-12 div.sk-parallel-item::before {content: \"\";position: absolute;border-left: 1px solid gray;box-sizing: border-box;top: 0;bottom: 0;left: 50%;z-index: -1;}#sk-container-id-12 div.sk-parallel-item {display: flex;flex-direction: column;z-index: 1;position: relative;background-color: white;}#sk-container-id-12 div.sk-parallel-item:first-child::after {align-self: flex-end;width: 50%;}#sk-container-id-12 div.sk-parallel-item:last-child::after {align-self: flex-start;width: 50%;}#sk-container-id-12 div.sk-parallel-item:only-child::after {width: 0;}#sk-container-id-12 div.sk-dashed-wrapped {border: 1px dashed gray;margin: 0 0.4em 0.5em 0.4em;box-sizing: border-box;padding-bottom: 0.4em;background-color: white;}#sk-container-id-12 div.sk-label label {font-family: monospace;font-weight: bold;display: inline-block;line-height: 1.2em;}#sk-container-id-12 div.sk-label-container {text-align: center;}#sk-container-id-12 div.sk-container {/* jupyter's `normalize.less` sets `[hidden] { display: none; }` but bootstrap.min.css set `[hidden] { display: none !important; }` so we also need the `!important` here to be able to override the default hidden behavior on the sphinx rendered scikit-learn.org. See: https://github.com/scikit-learn/scikit-learn/issues/21755 */display: inline-block !important;position: relative;}#sk-container-id-12 div.sk-text-repr-fallback {display: none;}</style><div id=\"sk-container-id-12\" class=\"sk-top-container\"><div class=\"sk-text-repr-fallback\"><pre>DecisionTreeClassifier(max_depth=4, max_leaf_nodes=20)</pre><b>In a Jupyter environment, please rerun this cell to show the HTML representation or trust the notebook. <br />On GitHub, the HTML representation is unable to render, please try loading this page with nbviewer.org.</b></div><div class=\"sk-container\" hidden><div class=\"sk-item\"><div class=\"sk-estimator sk-toggleable\"><input class=\"sk-toggleable__control sk-hidden--visually\" id=\"sk-estimator-id-12\" type=\"checkbox\" checked><label for=\"sk-estimator-id-12\" class=\"sk-toggleable__label sk-toggleable__label-arrow\">DecisionTreeClassifier</label><div class=\"sk-toggleable__content\"><pre>DecisionTreeClassifier(max_depth=4, max_leaf_nodes=20)</pre></div></div></div></div></div>"
      ],
      "text/plain": [
       "DecisionTreeClassifier(max_depth=4, max_leaf_nodes=20)"
      ]
     },
     "execution_count": 166,
     "metadata": {},
     "output_type": "execute_result"
    }
   ],
   "source": [
    "from sklearn.tree import DecisionTreeClassifier\n",
    "# Create a Decision Tree classifier\n",
    "decision_tree = DecisionTreeClassifier(max_leaf_nodes=20, max_depth=4)\n",
    "\n",
    "# Train the model\n",
    "decision_tree.fit(decision_tree_X_train, decision_tree_y_train)"
   ]
  },
  {
   "cell_type": "markdown",
   "metadata": {},
   "source": [
    "#### **Analyze Decision Tree Model on Testing Dataset**"
   ]
  },
  {
   "cell_type": "code",
   "execution_count": 167,
   "metadata": {},
   "outputs": [
    {
     "name": "stdout",
     "output_type": "stream",
     "text": [
      "Accuracy Scores for Each Fold:\n",
      "Fold 1 : 0.66\n",
      "Fold 2 : 0.68\n",
      "Fold 3 : 0.6825\n",
      "Fold 4 : 0.685\n",
      "Fold 5 : 0.6325\n",
      "Fold 6 : 0.695\n",
      "Fold 7 : 0.6875\n",
      "Fold 8 : 0.655\n",
      "Fold 9 : 0.7225\n",
      "Fold 10 : 0.6875\n",
      "Mean Accuracy:  0.6787500000000001\n"
     ]
    }
   ],
   "source": [
    "from sklearn.model_selection import cross_val_score\n",
    "from sklearn.metrics import accuracy_score\n",
    "import numpy as np\n",
    "\n",
    "#---- Completes 10 tests of random samples and grabs the accuracy score ----\n",
    "decision_tree_accuracy_scores = cross_val_score(decision_tree, decision_tree_X_test, decision_tree_y_test, cv=10, scoring='accuracy')\n",
    "\n",
    "# --- Iterates through all the accuracy scores created by cross_val_score and prints the result ----\n",
    "print(\"Accuracy Scores for Each Fold:\")\n",
    "for i, score in enumerate(decision_tree_accuracy_scores):\n",
    "    print(\"Fold \" + str(i+1), \": \" + str(score))\n",
    "\n",
    "decision_tree_mean_accuracy = np.mean(decision_tree_accuracy_scores)\n",
    "print(\"Mean Accuracy: \", decision_tree_mean_accuracy)\n"
   ]
  },
  {
   "cell_type": "markdown",
   "metadata": {},
   "source": [
    "- The accuracy of Decision Tree is around 0.6967 using a max leaf nodes of 20 and a max depth of 4"
   ]
  },
  {
   "cell_type": "markdown",
   "metadata": {},
   "source": [
    "#### **Which predictive model does the best on predicting customer_churn dataset?**"
   ]
  },
  {
   "cell_type": "markdown",
   "metadata": {},
   "source": [
    "- The decision tree model works the best on predicting the customer_churn dataset with a cross validation score of around 0.6967 compared to the knn model cross valdiation score of 0.57925. "
   ]
  },
  {
   "cell_type": "markdown",
   "metadata": {},
   "source": [
    "#### **Is the dataset balanced?**"
   ]
  },
  {
   "cell_type": "markdown",
   "metadata": {},
   "source": [
    "- The dataset is balanced with no empty outputs in addition, the removal of overlaping text string in the dataset. "
   ]
  },
  {
   "cell_type": "markdown",
   "metadata": {},
   "source": [
    "#### **How did I improve the dataset?**"
   ]
  },
  {
   "cell_type": "markdown",
   "metadata": {},
   "source": [
    "- I removed all of these columns: \"REPORTED_SATISFACTION\", \"REPORTED_USAGE_LEVEL\", \"CONSIDERING_CHANGE_OF_PLAN\" as I deemed those columns too similiar to LEAVE, which was the column to compare. "
   ]
  },
  {
   "cell_type": "markdown",
   "metadata": {},
   "source": [
    "#### **Report correlation between data entries and predictive models?**"
   ]
  },
  {
   "cell_type": "markdown",
   "metadata": {},
   "source": [
    "- There is an overla between all possible inputs and the reason they leave except for \"REPORTED_SATISFACTION\", \"REPORTED_USAGE_LEVEL\", \"CONSIDERING_CHANGE_OF_PLAN\". There could be more overlapping columns like handset price, over 15 min calls, and average call duration possibly. There is most likely a heavy correlation between income, household, overage, and leftover that may make a customer leave the phone plan. "
   ]
  },
  {
   "cell_type": "markdown",
   "metadata": {},
   "source": [
    "#### **Recommendations to remove churn based on data?**"
   ]
  },
  {
   "cell_type": "markdown",
   "metadata": {},
   "source": [
    "- I would recommend to cut down these columns: \"REPORTED_SATISFACTION\", \"REPORTED_USAGE_LEVEL\", \"CONSIDERING_CHANGE_OF_PLAN\" as they seem to overlap the column \"LEAVE\" and act similiary to one another. "
   ]
  },
  {
   "cell_type": "markdown",
   "metadata": {},
   "source": [
    "## **Linear Regression, Logistic Regression, and NN**"
   ]
  },
  {
   "cell_type": "code",
   "execution_count": 168,
   "metadata": {},
   "outputs": [],
   "source": [
    "import pandas as pd\n",
    "def convert_features_to_one_hot(df, feature_name_list):\n",
    "  for feature_name in feature_name_list:\n",
    "    df = pd.get_dummies(df, columns=[feature_name], dtype=float)\n",
    "  \n",
    "  return df"
   ]
  },
  {
   "cell_type": "markdown",
   "metadata": {},
   "source": [
    "### **Linear Regression**"
   ]
  },
  {
   "cell_type": "markdown",
   "metadata": {},
   "source": [
    "#### **Preparing the dataset**"
   ]
  },
  {
   "cell_type": "code",
   "execution_count": 214,
   "metadata": {},
   "outputs": [],
   "source": [
    "Linear_Regression_DataFrame = dataframe.copy()\n",
    "#---- Initial Cleaning of the dataset ----\n",
    "Linear_Regression_DataFrame.replace(to_replace=\"zero\", value=0, inplace=True)\n",
    "Linear_Regression_DataFrame.replace(to_replace=\"one\", value=1, inplace=True)\n",
    "Linear_Regression_DataFrame.replace(to_replace=\"STAY\", value=1, inplace=True)\n",
    "Linear_Regression_DataFrame.replace(to_replace=\"LEAVE\", value=0, inplace=True)\n",
    "#---- Create dataframe of X and Y vlaues where Y value only keeps Churn value ----\n",
    "Linear_Regression_X = Linear_Regression_DataFrame[Linear_Regression_DataFrame.columns.tolist()[0:len(Linear_Regression_DataFrame.columns)-1]]\n",
    "Linear_Regression_Y = Linear_Regression_DataFrame[Linear_Regression_DataFrame.columns.tolist()[-1]]\n",
    "#---- Creating Validation and Training Dataset ----\n",
    "from sklearn.model_selection import train_test_split\n",
    "Linear_Regression_X_train, Linear_Regression_X_val, Linear_Regression_Y_train, Linear_Regression_Y_val = train_test_split(Linear_Regression_X, Linear_Regression_Y, test_size=0.2, random_state=42)\n",
    "#---- Convert one_hot_encoding_features ----\n",
    "Linear_Regression_X_train = convert_features_to_one_hot(Linear_Regression_X_train, [\"REPORTED_SATISFACTION\", \"REPORTED_USAGE_LEVEL\", \"CONSIDERING_CHANGE_OF_PLAN\"])\n",
    "Linear_Regression_X_val = convert_features_to_one_hot(Linear_Regression_X_val, [\"REPORTED_SATISFACTION\", \"REPORTED_USAGE_LEVEL\", \"CONSIDERING_CHANGE_OF_PLAN\"])"
   ]
  },
  {
   "cell_type": "markdown",
   "metadata": {},
   "source": [
    "#### **Linear Regression Model**"
   ]
  },
  {
   "cell_type": "code",
   "execution_count": 215,
   "metadata": {},
   "outputs": [
    {
     "name": "stdout",
     "output_type": "stream",
     "text": [
      "Mean Squared Error:  0.2194419130156763\n",
      "Average Score:  -0.22153270231240976\n"
     ]
    }
   ],
   "source": [
    "from sklearn.linear_model import LinearRegression\n",
    "from sklearn.metrics import mean_squared_error, r2_score\n",
    "from sklearn.model_selection import cross_val_score\n",
    "Linear_Regression_Model = LinearRegression().fit(Linear_Regression_X_train, Linear_Regression_Y_train)\n",
    "Linear_Regression_Scores = cross_val_score(Linear_Regression_Model, Linear_Regression_X_train, Linear_Regression_Y_train, cv=5, scoring=\"neg_mean_squared_error\")\n",
    "Linear_Regression_Y_predict = Linear_Regression_Model.predict(Linear_Regression_X_val)\n",
    "Linear_Regression_MSE = mean_squared_error(Linear_Regression_Y_val, Linear_Regression_Y_predict)\n",
    "Linear_Regression_r2 = r2_score(Linear_Regression_Y_val, Linear_Regression_Y_predict)\n",
    "print(\"Mean Squared Error: \", Linear_Regression_MSE)\n",
    "print(\"Average Score: \", Linear_Regression_Scores.mean())"
   ]
  },
  {
   "cell_type": "markdown",
   "metadata": {},
   "source": [
    "#### **Linear Regression Model Conclusion**"
   ]
  },
  {
   "cell_type": "markdown",
   "metadata": {},
   "source": [
    "The average error between the predicted vs the actual is around 0.22, which could be potentially concluded that the linear regression as an accuracy of around 0.77847. "
   ]
  },
  {
   "cell_type": "markdown",
   "metadata": {},
   "source": [
    "### **Logistic Regression**"
   ]
  },
  {
   "cell_type": "markdown",
   "metadata": {},
   "source": [
    "#### **Preparing the dataset**"
   ]
  },
  {
   "cell_type": "code",
   "execution_count": 204,
   "metadata": {},
   "outputs": [
    {
     "data": {
      "text/html": [
       "<div>\n",
       "<style scoped>\n",
       "    .dataframe tbody tr th:only-of-type {\n",
       "        vertical-align: middle;\n",
       "    }\n",
       "\n",
       "    .dataframe tbody tr th {\n",
       "        vertical-align: top;\n",
       "    }\n",
       "\n",
       "    .dataframe thead th {\n",
       "        text-align: right;\n",
       "    }\n",
       "</style>\n",
       "<table border=\"1\" class=\"dataframe\">\n",
       "  <thead>\n",
       "    <tr style=\"text-align: right;\">\n",
       "      <th></th>\n",
       "      <th>COLLEGE</th>\n",
       "      <th>INCOME</th>\n",
       "      <th>OVERAGE</th>\n",
       "      <th>LEFTOVER</th>\n",
       "      <th>HOUSE</th>\n",
       "      <th>HANDSET_PRICE</th>\n",
       "      <th>OVER_15MINS_CALLS_PER_MONTH</th>\n",
       "      <th>AVERAGE_CALL_DURATION</th>\n",
       "      <th>REPORTED_SATISFACTION_avg</th>\n",
       "      <th>REPORTED_SATISFACTION_sat</th>\n",
       "      <th>...</th>\n",
       "      <th>REPORTED_USAGE_LEVEL_avg</th>\n",
       "      <th>REPORTED_USAGE_LEVEL_high</th>\n",
       "      <th>REPORTED_USAGE_LEVEL_little</th>\n",
       "      <th>REPORTED_USAGE_LEVEL_very_high</th>\n",
       "      <th>REPORTED_USAGE_LEVEL_very_little</th>\n",
       "      <th>CONSIDERING_CHANGE_OF_PLAN_actively_looking_into_it</th>\n",
       "      <th>CONSIDERING_CHANGE_OF_PLAN_considering</th>\n",
       "      <th>CONSIDERING_CHANGE_OF_PLAN_never_thought</th>\n",
       "      <th>CONSIDERING_CHANGE_OF_PLAN_no</th>\n",
       "      <th>CONSIDERING_CHANGE_OF_PLAN_perhaps</th>\n",
       "    </tr>\n",
       "  </thead>\n",
       "  <tbody>\n",
       "    <tr>\n",
       "      <th>5894</th>\n",
       "      <td>1</td>\n",
       "      <td>98418</td>\n",
       "      <td>65</td>\n",
       "      <td>0</td>\n",
       "      <td>226957</td>\n",
       "      <td>394</td>\n",
       "      <td>5</td>\n",
       "      <td>11</td>\n",
       "      <td>0.0</td>\n",
       "      <td>0.0</td>\n",
       "      <td>...</td>\n",
       "      <td>0.0</td>\n",
       "      <td>0.0</td>\n",
       "      <td>0.0</td>\n",
       "      <td>1.0</td>\n",
       "      <td>0.0</td>\n",
       "      <td>0.0</td>\n",
       "      <td>1.0</td>\n",
       "      <td>0.0</td>\n",
       "      <td>0.0</td>\n",
       "      <td>0.0</td>\n",
       "    </tr>\n",
       "    <tr>\n",
       "      <th>3728</th>\n",
       "      <td>1</td>\n",
       "      <td>135755</td>\n",
       "      <td>0</td>\n",
       "      <td>0</td>\n",
       "      <td>377016</td>\n",
       "      <td>535</td>\n",
       "      <td>29</td>\n",
       "      <td>14</td>\n",
       "      <td>0.0</td>\n",
       "      <td>0.0</td>\n",
       "      <td>...</td>\n",
       "      <td>1.0</td>\n",
       "      <td>0.0</td>\n",
       "      <td>0.0</td>\n",
       "      <td>0.0</td>\n",
       "      <td>0.0</td>\n",
       "      <td>0.0</td>\n",
       "      <td>1.0</td>\n",
       "      <td>0.0</td>\n",
       "      <td>0.0</td>\n",
       "      <td>0.0</td>\n",
       "    </tr>\n",
       "    <tr>\n",
       "      <th>8958</th>\n",
       "      <td>0</td>\n",
       "      <td>149358</td>\n",
       "      <td>212</td>\n",
       "      <td>63</td>\n",
       "      <td>634847</td>\n",
       "      <td>558</td>\n",
       "      <td>20</td>\n",
       "      <td>1</td>\n",
       "      <td>0.0</td>\n",
       "      <td>0.0</td>\n",
       "      <td>...</td>\n",
       "      <td>0.0</td>\n",
       "      <td>0.0</td>\n",
       "      <td>1.0</td>\n",
       "      <td>0.0</td>\n",
       "      <td>0.0</td>\n",
       "      <td>0.0</td>\n",
       "      <td>0.0</td>\n",
       "      <td>1.0</td>\n",
       "      <td>0.0</td>\n",
       "      <td>0.0</td>\n",
       "    </tr>\n",
       "    <tr>\n",
       "      <th>7671</th>\n",
       "      <td>1</td>\n",
       "      <td>35289</td>\n",
       "      <td>207</td>\n",
       "      <td>22</td>\n",
       "      <td>873341</td>\n",
       "      <td>202</td>\n",
       "      <td>22</td>\n",
       "      <td>6</td>\n",
       "      <td>1.0</td>\n",
       "      <td>0.0</td>\n",
       "      <td>...</td>\n",
       "      <td>0.0</td>\n",
       "      <td>1.0</td>\n",
       "      <td>0.0</td>\n",
       "      <td>0.0</td>\n",
       "      <td>0.0</td>\n",
       "      <td>0.0</td>\n",
       "      <td>1.0</td>\n",
       "      <td>0.0</td>\n",
       "      <td>0.0</td>\n",
       "      <td>0.0</td>\n",
       "    </tr>\n",
       "    <tr>\n",
       "      <th>5999</th>\n",
       "      <td>1</td>\n",
       "      <td>83384</td>\n",
       "      <td>36</td>\n",
       "      <td>0</td>\n",
       "      <td>178986</td>\n",
       "      <td>275</td>\n",
       "      <td>0</td>\n",
       "      <td>12</td>\n",
       "      <td>0.0</td>\n",
       "      <td>0.0</td>\n",
       "      <td>...</td>\n",
       "      <td>0.0</td>\n",
       "      <td>0.0</td>\n",
       "      <td>0.0</td>\n",
       "      <td>1.0</td>\n",
       "      <td>0.0</td>\n",
       "      <td>0.0</td>\n",
       "      <td>0.0</td>\n",
       "      <td>0.0</td>\n",
       "      <td>1.0</td>\n",
       "      <td>0.0</td>\n",
       "    </tr>\n",
       "  </tbody>\n",
       "</table>\n",
       "<p>5 rows × 23 columns</p>\n",
       "</div>"
      ],
      "text/plain": [
       "      COLLEGE  INCOME  OVERAGE  LEFTOVER   HOUSE  HANDSET_PRICE   \n",
       "5894        1   98418       65         0  226957            394  \\\n",
       "3728        1  135755        0         0  377016            535   \n",
       "8958        0  149358      212        63  634847            558   \n",
       "7671        1   35289      207        22  873341            202   \n",
       "5999        1   83384       36         0  178986            275   \n",
       "\n",
       "      OVER_15MINS_CALLS_PER_MONTH  AVERAGE_CALL_DURATION   \n",
       "5894                            5                     11  \\\n",
       "3728                           29                     14   \n",
       "8958                           20                      1   \n",
       "7671                           22                      6   \n",
       "5999                            0                     12   \n",
       "\n",
       "      REPORTED_SATISFACTION_avg  REPORTED_SATISFACTION_sat  ...   \n",
       "5894                        0.0                        0.0  ...  \\\n",
       "3728                        0.0                        0.0  ...   \n",
       "8958                        0.0                        0.0  ...   \n",
       "7671                        1.0                        0.0  ...   \n",
       "5999                        0.0                        0.0  ...   \n",
       "\n",
       "      REPORTED_USAGE_LEVEL_avg  REPORTED_USAGE_LEVEL_high   \n",
       "5894                       0.0                        0.0  \\\n",
       "3728                       1.0                        0.0   \n",
       "8958                       0.0                        0.0   \n",
       "7671                       0.0                        1.0   \n",
       "5999                       0.0                        0.0   \n",
       "\n",
       "      REPORTED_USAGE_LEVEL_little  REPORTED_USAGE_LEVEL_very_high   \n",
       "5894                          0.0                             1.0  \\\n",
       "3728                          0.0                             0.0   \n",
       "8958                          1.0                             0.0   \n",
       "7671                          0.0                             0.0   \n",
       "5999                          0.0                             1.0   \n",
       "\n",
       "      REPORTED_USAGE_LEVEL_very_little   \n",
       "5894                               0.0  \\\n",
       "3728                               0.0   \n",
       "8958                               0.0   \n",
       "7671                               0.0   \n",
       "5999                               0.0   \n",
       "\n",
       "      CONSIDERING_CHANGE_OF_PLAN_actively_looking_into_it   \n",
       "5894                                                0.0    \\\n",
       "3728                                                0.0     \n",
       "8958                                                0.0     \n",
       "7671                                                0.0     \n",
       "5999                                                0.0     \n",
       "\n",
       "      CONSIDERING_CHANGE_OF_PLAN_considering   \n",
       "5894                                     1.0  \\\n",
       "3728                                     1.0   \n",
       "8958                                     0.0   \n",
       "7671                                     1.0   \n",
       "5999                                     0.0   \n",
       "\n",
       "      CONSIDERING_CHANGE_OF_PLAN_never_thought  CONSIDERING_CHANGE_OF_PLAN_no   \n",
       "5894                                       0.0                            0.0  \\\n",
       "3728                                       0.0                            0.0   \n",
       "8958                                       1.0                            0.0   \n",
       "7671                                       0.0                            0.0   \n",
       "5999                                       0.0                            1.0   \n",
       "\n",
       "      CONSIDERING_CHANGE_OF_PLAN_perhaps  \n",
       "5894                                 0.0  \n",
       "3728                                 0.0  \n",
       "8958                                 0.0  \n",
       "7671                                 0.0  \n",
       "5999                                 0.0  \n",
       "\n",
       "[5 rows x 23 columns]"
      ]
     },
     "execution_count": 204,
     "metadata": {},
     "output_type": "execute_result"
    }
   ],
   "source": [
    "Logistic_Regression_DataFrame = dataframe.copy()\n",
    "#---- Initial Cleaning of the dataset ----\n",
    "Logistic_Regression_DataFrame.replace(to_replace=\"zero\", value=0, inplace=True)\n",
    "Logistic_Regression_DataFrame.replace(to_replace=\"one\", value=1, inplace=True)\n",
    "#Logistic_Regression_DataFrame.replace(to_replace=\"STAY\", value=1, inplace=True)\n",
    "#---- Create dataframe of X and Y vlaues where Y value only keeps Churn value ----\n",
    "Logistic_Regression_X = Logistic_Regression_DataFrame[Logistic_Regression_DataFrame.columns.tolist()[0:len(Logistic_Regression_DataFrame.columns)-1]]\n",
    "Logistic_Regression_Y = Logistic_Regression_DataFrame[Logistic_Regression_DataFrame.columns.tolist()[-1]]\n",
    "#---- Creating Validation and Training Dataset ----\n",
    "from sklearn.model_selection import train_test_split\n",
    "Logistic_Regression_X_train, Logistic_Regression_X_val, Logistic_Regression_Y_train, Logistic_Regression_Y_val = train_test_split(Logistic_Regression_X, Logistic_Regression_Y, test_size=0.2, random_state=42)\n",
    "#---- Convert one_hot_encoding_features ----\n",
    "Logistic_Regression_X_train = convert_features_to_one_hot(Logistic_Regression_X_train, [\"REPORTED_SATISFACTION\", \"REPORTED_USAGE_LEVEL\", \"CONSIDERING_CHANGE_OF_PLAN\"])\n",
    "Logistic_Regression_X_val = convert_features_to_one_hot(Logistic_Regression_X_val, [\"REPORTED_SATISFACTION\", \"REPORTED_USAGE_LEVEL\", \"CONSIDERING_CHANGE_OF_PLAN\"])\n",
    "Logistic_Regression_X_train.head()"
   ]
  },
  {
   "cell_type": "markdown",
   "metadata": {},
   "source": [
    "#### **Logistic Regression Model**"
   ]
  },
  {
   "cell_type": "code",
   "execution_count": 205,
   "metadata": {},
   "outputs": [
    {
     "name": "stdout",
     "output_type": "stream",
     "text": [
      "accuracy:  0.633\n",
      "Mean Accuracy:  0.6324375\n"
     ]
    }
   ],
   "source": [
    "#---- Create Linear Regression Model ----\n",
    "from sklearn.linear_model import LogisticRegression\n",
    "Logistic_LR_model = LogisticRegression(penalty=\"l2\").fit(Logistic_Regression_X_train, Logistic_Regression_Y_train)\n",
    "#---- Prediction ----\n",
    "from sklearn.model_selection import cross_val_score\n",
    "Logistic_Regression_Score = cross_val_score(Logistic_LR_model, Logistic_Regression_X_train, Logistic_Regression_Y_train, cv=10)\n",
    "Logistic_Regression_x_predict = Logistic_LR_model.predict(Logistic_Regression_X_val)\n",
    "from sklearn import metrics\n",
    "Logistic_Regression_accuracy = metrics.accuracy_score(Logistic_Regression_Y_val, Logistic_Regression_x_predict)\n",
    "print(\"accuracy: \", Logistic_Regression_accuracy)\n",
    "print(\"Mean Accuracy: \", Logistic_Regression_Score.mean())"
   ]
  },
  {
   "cell_type": "markdown",
   "metadata": {},
   "source": [
    "#### **Logistic Regression Model Conclusion**"
   ]
  },
  {
   "cell_type": "markdown",
   "metadata": {},
   "source": [
    "Using the logistic regression where X is all the values excluding the LEAVE and STAY column, the accuracy of the logistic regression model seems to be around 0.6276. "
   ]
  },
  {
   "cell_type": "markdown",
   "metadata": {},
   "source": [
    "### **Neural Network**"
   ]
  },
  {
   "cell_type": "markdown",
   "metadata": {},
   "source": [
    "#### **Prepare Dataset**"
   ]
  },
  {
   "cell_type": "code",
   "execution_count": 206,
   "metadata": {},
   "outputs": [
    {
     "data": {
      "text/html": [
       "<div>\n",
       "<style scoped>\n",
       "    .dataframe tbody tr th:only-of-type {\n",
       "        vertical-align: middle;\n",
       "    }\n",
       "\n",
       "    .dataframe tbody tr th {\n",
       "        vertical-align: top;\n",
       "    }\n",
       "\n",
       "    .dataframe thead th {\n",
       "        text-align: right;\n",
       "    }\n",
       "</style>\n",
       "<table border=\"1\" class=\"dataframe\">\n",
       "  <thead>\n",
       "    <tr style=\"text-align: right;\">\n",
       "      <th></th>\n",
       "      <th>COLLEGE</th>\n",
       "      <th>INCOME</th>\n",
       "      <th>OVERAGE</th>\n",
       "      <th>LEFTOVER</th>\n",
       "      <th>HOUSE</th>\n",
       "      <th>HANDSET_PRICE</th>\n",
       "      <th>OVER_15MINS_CALLS_PER_MONTH</th>\n",
       "      <th>AVERAGE_CALL_DURATION</th>\n",
       "      <th>REPORTED_SATISFACTION_avg</th>\n",
       "      <th>REPORTED_SATISFACTION_sat</th>\n",
       "      <th>...</th>\n",
       "      <th>REPORTED_USAGE_LEVEL_avg</th>\n",
       "      <th>REPORTED_USAGE_LEVEL_high</th>\n",
       "      <th>REPORTED_USAGE_LEVEL_little</th>\n",
       "      <th>REPORTED_USAGE_LEVEL_very_high</th>\n",
       "      <th>REPORTED_USAGE_LEVEL_very_little</th>\n",
       "      <th>CONSIDERING_CHANGE_OF_PLAN_actively_looking_into_it</th>\n",
       "      <th>CONSIDERING_CHANGE_OF_PLAN_considering</th>\n",
       "      <th>CONSIDERING_CHANGE_OF_PLAN_never_thought</th>\n",
       "      <th>CONSIDERING_CHANGE_OF_PLAN_no</th>\n",
       "      <th>CONSIDERING_CHANGE_OF_PLAN_perhaps</th>\n",
       "    </tr>\n",
       "  </thead>\n",
       "  <tbody>\n",
       "    <tr>\n",
       "      <th>5894</th>\n",
       "      <td>1</td>\n",
       "      <td>98418</td>\n",
       "      <td>65</td>\n",
       "      <td>0</td>\n",
       "      <td>226957</td>\n",
       "      <td>394</td>\n",
       "      <td>5</td>\n",
       "      <td>11</td>\n",
       "      <td>0.0</td>\n",
       "      <td>0.0</td>\n",
       "      <td>...</td>\n",
       "      <td>0.0</td>\n",
       "      <td>0.0</td>\n",
       "      <td>0.0</td>\n",
       "      <td>1.0</td>\n",
       "      <td>0.0</td>\n",
       "      <td>0.0</td>\n",
       "      <td>1.0</td>\n",
       "      <td>0.0</td>\n",
       "      <td>0.0</td>\n",
       "      <td>0.0</td>\n",
       "    </tr>\n",
       "    <tr>\n",
       "      <th>3728</th>\n",
       "      <td>1</td>\n",
       "      <td>135755</td>\n",
       "      <td>0</td>\n",
       "      <td>0</td>\n",
       "      <td>377016</td>\n",
       "      <td>535</td>\n",
       "      <td>29</td>\n",
       "      <td>14</td>\n",
       "      <td>0.0</td>\n",
       "      <td>0.0</td>\n",
       "      <td>...</td>\n",
       "      <td>1.0</td>\n",
       "      <td>0.0</td>\n",
       "      <td>0.0</td>\n",
       "      <td>0.0</td>\n",
       "      <td>0.0</td>\n",
       "      <td>0.0</td>\n",
       "      <td>1.0</td>\n",
       "      <td>0.0</td>\n",
       "      <td>0.0</td>\n",
       "      <td>0.0</td>\n",
       "    </tr>\n",
       "    <tr>\n",
       "      <th>8958</th>\n",
       "      <td>0</td>\n",
       "      <td>149358</td>\n",
       "      <td>212</td>\n",
       "      <td>63</td>\n",
       "      <td>634847</td>\n",
       "      <td>558</td>\n",
       "      <td>20</td>\n",
       "      <td>1</td>\n",
       "      <td>0.0</td>\n",
       "      <td>0.0</td>\n",
       "      <td>...</td>\n",
       "      <td>0.0</td>\n",
       "      <td>0.0</td>\n",
       "      <td>1.0</td>\n",
       "      <td>0.0</td>\n",
       "      <td>0.0</td>\n",
       "      <td>0.0</td>\n",
       "      <td>0.0</td>\n",
       "      <td>1.0</td>\n",
       "      <td>0.0</td>\n",
       "      <td>0.0</td>\n",
       "    </tr>\n",
       "    <tr>\n",
       "      <th>7671</th>\n",
       "      <td>1</td>\n",
       "      <td>35289</td>\n",
       "      <td>207</td>\n",
       "      <td>22</td>\n",
       "      <td>873341</td>\n",
       "      <td>202</td>\n",
       "      <td>22</td>\n",
       "      <td>6</td>\n",
       "      <td>1.0</td>\n",
       "      <td>0.0</td>\n",
       "      <td>...</td>\n",
       "      <td>0.0</td>\n",
       "      <td>1.0</td>\n",
       "      <td>0.0</td>\n",
       "      <td>0.0</td>\n",
       "      <td>0.0</td>\n",
       "      <td>0.0</td>\n",
       "      <td>1.0</td>\n",
       "      <td>0.0</td>\n",
       "      <td>0.0</td>\n",
       "      <td>0.0</td>\n",
       "    </tr>\n",
       "    <tr>\n",
       "      <th>5999</th>\n",
       "      <td>1</td>\n",
       "      <td>83384</td>\n",
       "      <td>36</td>\n",
       "      <td>0</td>\n",
       "      <td>178986</td>\n",
       "      <td>275</td>\n",
       "      <td>0</td>\n",
       "      <td>12</td>\n",
       "      <td>0.0</td>\n",
       "      <td>0.0</td>\n",
       "      <td>...</td>\n",
       "      <td>0.0</td>\n",
       "      <td>0.0</td>\n",
       "      <td>0.0</td>\n",
       "      <td>1.0</td>\n",
       "      <td>0.0</td>\n",
       "      <td>0.0</td>\n",
       "      <td>0.0</td>\n",
       "      <td>0.0</td>\n",
       "      <td>1.0</td>\n",
       "      <td>0.0</td>\n",
       "    </tr>\n",
       "  </tbody>\n",
       "</table>\n",
       "<p>5 rows × 23 columns</p>\n",
       "</div>"
      ],
      "text/plain": [
       "      COLLEGE  INCOME  OVERAGE  LEFTOVER   HOUSE  HANDSET_PRICE   \n",
       "5894        1   98418       65         0  226957            394  \\\n",
       "3728        1  135755        0         0  377016            535   \n",
       "8958        0  149358      212        63  634847            558   \n",
       "7671        1   35289      207        22  873341            202   \n",
       "5999        1   83384       36         0  178986            275   \n",
       "\n",
       "      OVER_15MINS_CALLS_PER_MONTH  AVERAGE_CALL_DURATION   \n",
       "5894                            5                     11  \\\n",
       "3728                           29                     14   \n",
       "8958                           20                      1   \n",
       "7671                           22                      6   \n",
       "5999                            0                     12   \n",
       "\n",
       "      REPORTED_SATISFACTION_avg  REPORTED_SATISFACTION_sat  ...   \n",
       "5894                        0.0                        0.0  ...  \\\n",
       "3728                        0.0                        0.0  ...   \n",
       "8958                        0.0                        0.0  ...   \n",
       "7671                        1.0                        0.0  ...   \n",
       "5999                        0.0                        0.0  ...   \n",
       "\n",
       "      REPORTED_USAGE_LEVEL_avg  REPORTED_USAGE_LEVEL_high   \n",
       "5894                       0.0                        0.0  \\\n",
       "3728                       1.0                        0.0   \n",
       "8958                       0.0                        0.0   \n",
       "7671                       0.0                        1.0   \n",
       "5999                       0.0                        0.0   \n",
       "\n",
       "      REPORTED_USAGE_LEVEL_little  REPORTED_USAGE_LEVEL_very_high   \n",
       "5894                          0.0                             1.0  \\\n",
       "3728                          0.0                             0.0   \n",
       "8958                          1.0                             0.0   \n",
       "7671                          0.0                             0.0   \n",
       "5999                          0.0                             1.0   \n",
       "\n",
       "      REPORTED_USAGE_LEVEL_very_little   \n",
       "5894                               0.0  \\\n",
       "3728                               0.0   \n",
       "8958                               0.0   \n",
       "7671                               0.0   \n",
       "5999                               0.0   \n",
       "\n",
       "      CONSIDERING_CHANGE_OF_PLAN_actively_looking_into_it   \n",
       "5894                                                0.0    \\\n",
       "3728                                                0.0     \n",
       "8958                                                0.0     \n",
       "7671                                                0.0     \n",
       "5999                                                0.0     \n",
       "\n",
       "      CONSIDERING_CHANGE_OF_PLAN_considering   \n",
       "5894                                     1.0  \\\n",
       "3728                                     1.0   \n",
       "8958                                     0.0   \n",
       "7671                                     1.0   \n",
       "5999                                     0.0   \n",
       "\n",
       "      CONSIDERING_CHANGE_OF_PLAN_never_thought  CONSIDERING_CHANGE_OF_PLAN_no   \n",
       "5894                                       0.0                            0.0  \\\n",
       "3728                                       0.0                            0.0   \n",
       "8958                                       1.0                            0.0   \n",
       "7671                                       0.0                            0.0   \n",
       "5999                                       0.0                            1.0   \n",
       "\n",
       "      CONSIDERING_CHANGE_OF_PLAN_perhaps  \n",
       "5894                                 0.0  \n",
       "3728                                 0.0  \n",
       "8958                                 0.0  \n",
       "7671                                 0.0  \n",
       "5999                                 0.0  \n",
       "\n",
       "[5 rows x 23 columns]"
      ]
     },
     "execution_count": 206,
     "metadata": {},
     "output_type": "execute_result"
    }
   ],
   "source": [
    "Neural_Network_DataFrame = dataframe.copy()\n",
    "#---- Initial Cleaning of the dataset ----\n",
    "Neural_Network_DataFrame.replace(to_replace=\"zero\", value=0, inplace=True)\n",
    "Neural_Network_DataFrame.replace(to_replace=\"one\", value=1, inplace=True)\n",
    "Neural_Network_DataFrame.replace(to_replace=\"LEAVE\", value=0, inplace=True)\n",
    "Neural_Network_DataFrame.replace(to_replace=\"STAY\", value=1, inplace=True)\n",
    "#---- Create dataframe of X and Y vlaues where Y value only keeps Churn value ----\n",
    "Neural_Network_X = Neural_Network_DataFrame[Neural_Network_DataFrame.columns.tolist()[0:len(Neural_Network_DataFrame.columns)-1]]\n",
    "Neural_Network_Y = Neural_Network_DataFrame[Neural_Network_DataFrame.columns.tolist()[-1]]\n",
    "#---- Creating Validation and Training Dataset ----\n",
    "from sklearn.model_selection import train_test_split\n",
    "Neural_Network_X_train, Neural_Network_X_val, Neural_Network_Y_train, Neural_Network_Y_val = train_test_split(Neural_Network_X, Neural_Network_Y, test_size=0.2, random_state=42)\n",
    "#---- Convert one_hot_encoding_features ----\n",
    "Neural_Network_X_train = convert_features_to_one_hot(Neural_Network_X_train, [\"REPORTED_SATISFACTION\", \"REPORTED_USAGE_LEVEL\", \"CONSIDERING_CHANGE_OF_PLAN\"])\n",
    "Neural_Network_X_val = convert_features_to_one_hot(Neural_Network_X_val, [\"REPORTED_SATISFACTION\", \"REPORTED_USAGE_LEVEL\", \"CONSIDERING_CHANGE_OF_PLAN\"])\n",
    "Neural_Network_X_train.head()"
   ]
  },
  {
   "cell_type": "markdown",
   "metadata": {},
   "source": [
    "#### **Set up PyTorch**"
   ]
  },
  {
   "cell_type": "code",
   "execution_count": 207,
   "metadata": {},
   "outputs": [],
   "source": [
    "import torch\n",
    "device = torch.device(\"cuda:0\" if torch.cuda.is_available() else \"cpu\")\n",
    "\n",
    "# Convert training data to PyTorch tensors and move to device\n",
    "Neural_Network_X_train = torch.tensor(Neural_Network_X_train.values, dtype=torch.float32).to(device)\n",
    "Neural_Network_Y_train = torch.tensor(Neural_Network_Y_train.values, dtype=torch.long).to(device)\n",
    "\n",
    "# Convert validation data to PyTorch tensors and move to device\n",
    "Neural_Network_X_val = torch.tensor(Neural_Network_X_val.values, dtype=torch.float32).to(device)\n",
    "Neural_Network_Y_val = torch.tensor(Neural_Network_Y_val.values, dtype=torch.long).to(device)"
   ]
  },
  {
   "cell_type": "markdown",
   "metadata": {},
   "source": [
    "##### **Changeable Parameters**"
   ]
  },
  {
   "cell_type": "code",
   "execution_count": 208,
   "metadata": {},
   "outputs": [],
   "source": [
    "D = Neural_Network_X_train.shape[1]  # feature dimensions\n",
    "C = 2  # num_classes\n",
    "H = 6  # num_hidden_units\n",
    "\n",
    "# Set learning rate and regularization strength\n",
    "learning_rate = 1e-3\n",
    "lambda_l2 = 1e-3\n",
    "\n",
    "# Set number of training epochs\n",
    "epochs = 27000"
   ]
  },
  {
   "cell_type": "markdown",
   "metadata": {},
   "source": [
    "#### **Neural Network Model**"
   ]
  },
  {
   "cell_type": "code",
   "execution_count": 209,
   "metadata": {},
   "outputs": [
    {
     "name": "stdout",
     "output_type": "stream",
     "text": [
      "Neural network model validation accuracy: 0.5137500166893005\n"
     ]
    }
   ],
   "source": [
    "from torch import nn\n",
    "###### 1. Your codes start here.######\n",
    "Neural_Network_Model = nn.Sequential(\n",
    "    nn.Linear(D, H),\n",
    "    nn.ReLU(),\n",
    "    nn.Linear(H, H),\n",
    "    nn.ReLU(),\n",
    "    nn.Linear(H, C),\n",
    ")\n",
    "###### Your codes end here.######\n",
    "Neural_Network_Model.to(device)\n",
    "\n",
    "# nn package has different loss functions.\n",
    "# we use cross entropy loss for our classification task\n",
    "###### 2. Your codes start here.######\n",
    "Neural_Network_criterion = torch.nn.CrossEntropyLoss()\n",
    "###### Your codes end here.######\n",
    "\n",
    "# we use the optim package to apply\n",
    "# ADAM for our parameter updates\n",
    "###### 3. Your codes start here.######\n",
    "Neural_Network_optimizer = torch.optim.Adam(Neural_Network_Model.parameters(), lr=learning_rate, weight_decay=lambda_l2)\n",
    "###### Your codes end here.######\n",
    "\n",
    "for t in range(epochs):\n",
    "    ###### Your codes start here.######\n",
    "    x_pred = Neural_Network_Model(Neural_Network_X_train)\n",
    "\n",
    "    # Append pre-train output\n",
    "\n",
    "    # Compute the loss and accuracy\n",
    "    loss = Neural_Network_criterion(x_pred, Neural_Network_Y_train)\n",
    "    #(\"[EPOCH]: %i, [LOSS]: %.6f, [ACCURACY]: %.3f\" % (t, loss.item(), accuracy))\n",
    "\n",
    "    # zero the gradients before running\n",
    "    # the backward pass.\n",
    "    Neural_Network_optimizer.zero_grad()\n",
    "\n",
    "    # Backward pass to compute the gradient\n",
    "    # of loss w.r.t our learnable params.\n",
    "    loss.backward()\n",
    "\n",
    "    # Update params\n",
    "    Neural_Network_optimizer.step()\n",
    "\n",
    "\n",
    "with torch.no_grad():\n",
    "  Neural_Network_y_val_pred = Neural_Network_Model(Neural_Network_X_val)\n",
    "  _, Neural_Network_predicted_val = torch.max(Neural_Network_y_val_pred, 1)\n",
    "  val_acc = (Neural_Network_Y_val == Neural_Network_predicted_val).sum().float() / len(Neural_Network_Y_val)\n",
    "\n",
    "  # Print validation accuracy\n",
    "  print(f\"Neural network model validation accuracy: {val_acc}\")"
   ]
  },
  {
   "cell_type": "markdown",
   "metadata": {},
   "source": [
    "#### **Neural Network Model Conclusion**"
   ]
  },
  {
   "cell_type": "markdown",
   "metadata": {},
   "source": [
    "Using a very basic training model for the Neural Network Model, the Neural Network Model completes with an average accuracy of around 0.51. In addition, splitting the X and Y to where X is all the data exclusing the LEAVE and STAY data and the LEAVE and STAY column data is replaced with 0's and 1's "
   ]
  },
  {
   "cell_type": "markdown",
   "metadata": {},
   "source": [
    "#### **Model Recommendations for this dataset**"
   ]
  },
  {
   "cell_type": "markdown",
   "metadata": {},
   "source": [
    "I would recommend the usage of logistic regression or linear regression as their seems to be a better accuracy compared to the neural network model. "
   ]
  }
 ],
 "metadata": {
  "kernelspec": {
   "display_name": "Python 3",
   "language": "python",
   "name": "python3"
  },
  "language_info": {
   "codemirror_mode": {
    "name": "ipython",
    "version": 3
   },
   "file_extension": ".py",
   "mimetype": "text/x-python",
   "name": "python",
   "nbconvert_exporter": "python",
   "pygments_lexer": "ipython3",
   "version": "3.10.11"
  }
 },
 "nbformat": 4,
 "nbformat_minor": 2
}
